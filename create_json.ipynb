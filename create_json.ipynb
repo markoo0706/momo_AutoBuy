{
 "cells": [
  {
   "cell_type": "code",
   "execution_count": 5,
   "metadata": {},
   "outputs": [],
   "source": [
    "from selenium import webdriver\n",
    "from settings import URL\n",
    "import json, time"
   ]
  },
  {
   "cell_type": "markdown",
   "metadata": {},
   "source": [
    "<h4>STEP1：開啟網頁</h4>"
   ]
  },
  {
   "cell_type": "code",
   "execution_count": 6,
   "metadata": {},
   "outputs": [],
   "source": [
    "driver = webdriver.Chrome()\n",
    "driver.get(URL)"
   ]
  },
  {
   "cell_type": "markdown",
   "metadata": {},
   "source": [
    "#### STEP2：先不要執行下方儲存格，打開網頁後先在 momo網頁中登入會員「再」執行下方程式碼（要分兩階段）。"
   ]
  },
  {
   "cell_type": "code",
   "execution_count": 7,
   "metadata": {},
   "outputs": [],
   "source": [
    "with open(\"momo.json\", \"w\") as f:\n",
    "    f.write(json.dumps(driver.get_cookies()))\n",
    "driver.quit() # 關閉網頁"
   ]
  },
  {
   "cell_type": "markdown",
   "metadata": {},
   "source": [
    "#### STEP3：重開網頁 確認 cookies 能登入會員無誤。"
   ]
  },
  {
   "cell_type": "code",
   "execution_count": 8,
   "metadata": {},
   "outputs": [],
   "source": [
    "driver = webdriver.Chrome()\n",
    "driver.get(URL)\n",
    "with open (\"momo.json\", \"r\") as f:\n",
    "    cookies = json.loads(f.read())\n",
    "for c in cookies:\n",
    "    driver.add_cookie(c)\n",
    "driver.refresh()\n",
    "time.sleep(5)\n",
    "driver.quit()"
   ]
  },
  {
   "cell_type": "markdown",
   "metadata": {},
   "source": [
    "#### STEP4：確認 左邊資料欄 出現名為 \"momo.json\"的 檔案即完成json檔案的創建，可切換至終端機執行main.py。"
   ]
  }
 ],
 "metadata": {
  "kernelspec": {
   "display_name": ".venv",
   "language": "python",
   "name": "python3"
  },
  "language_info": {
   "codemirror_mode": {
    "name": "ipython",
    "version": 3
   },
   "file_extension": ".py",
   "mimetype": "text/x-python",
   "name": "python",
   "nbconvert_exporter": "python",
   "pygments_lexer": "ipython3",
   "version": "3.10.13"
  }
 },
 "nbformat": 4,
 "nbformat_minor": 2
}
